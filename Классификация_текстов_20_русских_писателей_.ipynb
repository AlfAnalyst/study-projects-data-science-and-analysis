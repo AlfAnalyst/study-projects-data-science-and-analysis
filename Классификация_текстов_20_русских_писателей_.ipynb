{
  "nbformat": 4,
  "nbformat_minor": 0,
  "metadata": {
    "colab": {
      "name": "Классификация текстов 20 русских писателей.",
      "provenance": [],
      "collapsed_sections": [],
      "machine_shape": "hm",
      "include_colab_link": true
    },
    "kernelspec": {
      "name": "python3",
      "display_name": "Python 3"
    },
    "language_info": {
      "name": "python"
    },
    "accelerator": "GPU"
  },
  "cells": [
    {
      "cell_type": "markdown",
      "metadata": {
        "id": "view-in-github",
        "colab_type": "text"
      },
      "source": [
        "<a href=\"https://colab.research.google.com/github/AlfAnalyst/study-projects-data-science-and-analysis/blob/main/%D0%9A%D0%BB%D0%B0%D1%81%D1%81%D0%B8%D1%84%D0%B8%D0%BA%D0%B0%D1%86%D0%B8%D1%8F_%D1%82%D0%B5%D0%BA%D1%81%D1%82%D0%BE%D0%B2_20_%D1%80%D1%83%D1%81%D1%81%D0%BA%D0%B8%D1%85_%D0%BF%D0%B8%D1%81%D0%B0%D1%82%D0%B5%D0%BB%D0%B5%D0%B9_.ipynb\" target=\"_parent\"><img src=\"https://colab.research.google.com/assets/colab-badge.svg\" alt=\"Open In Colab\"/></a>"
      ]
    },
    {
      "cell_type": "markdown",
      "metadata": {
        "id": "3hahJ-ONkfmR"
      },
      "source": [
        "### Задача:\n",
        "\n",
        "Создать нейросеть, которая будет верно классифицировать произведения 20-ти русских писателей.\n",
        "\n",
        " В задании необходимо выполнить следующие пункты:\n",
        "\n",
        "  1. Загрузить саму базу по ссылке и подговить файлы базы для обработки.\n",
        "  2. Создать обучающую и проверочную выборки, обратив особое внимание на балансировку базы: количество примеров каждого класса должно быть примерно одного порядка. При этом для разбивки необходимо применить цикл. Проверочная выборка должна быть 20% от общей выборки.\n",
        "  3. Подготовьте выборки для обучения и обучите сеть. Добейтесь результата точности сети не менее 95% на проверочной выборке модели Bag of Words и 75-80% - для модели Embedding.\n",
        "   \n"
      ]
    },
    {
      "cell_type": "code",
      "source": [
        "# Загрузка библиотек.\n",
        "import random                                                                   # Для генерации случайных чисел. \n",
        "import numpy as np                                                              # Для работы с массивами.\n",
        "import os                                                                       # Для работы с файлами.\n",
        "import gdown                                                                    # Для загрузки базы с картинками.\n",
        "import matplotlib.pyplot as plt                                                 # Для отрисовки графиков.\n",
        "\n",
        "from tensorflow.keras import utils                                              # Утилиты для to_categorical.\n",
        "from tensorflow.keras.models import Sequential                                  # Для создания модели нейросети.\n",
        "from tensorflow.keras.layers import Dense, Dropout, BatchNormalization\n",
        "from tensorflow.keras.layers import Flatten, Embedding, SpatialDropout1D        # Для создания слоев.\n",
        "from tensorflow.keras.optimizers import Adam                                    # Оптимизатор.\n",
        "\n",
        "from tensorflow.keras.preprocessing.text import Tokenizer                       # Для работы с текстами и преобразования их в последовательности.\n",
        "\n",
        "from sklearn.model_selection import train_test_split                            # Для разбиения на выборки.\n",
        "from sklearn.metrics import confusion_matrix                                    # Матрицы ошибок классификатора.\n",
        "\n",
        "from seaborn import set_style                                                   # Для отрисовки сетки.\n",
        "set_style('whitegrid')\n"
      ],
      "metadata": {
        "id": "8PnONyIyiNkP"
      },
      "execution_count": null,
      "outputs": []
    },
    {
      "cell_type": "markdown",
      "metadata": {
        "id": "QolTxRtFWm3r"
      },
      "source": [
        "## Загрузка данных"
      ]
    },
    {
      "cell_type": "code",
      "metadata": {
        "id": "pBys9ajOW43u",
        "colab": {
          "base_uri": "https://localhost:8080/",
          "height": 105
        },
        "outputId": "da232c28-ac70-4506-a686-acb8284076eb"
      },
      "source": [
        "import gdown                                                                    # Подключим функцию gdown\n",
        "file_id = '1TeJxgfr2ZEY5Elil7XgM8WW7njI9Toqj'                                   # Обозначим ID файла в рамках ссылки\n",
        "file_name = 'writers.zip'                                                       # Обозначим имя архива с базой\n",
        "path = 'https://drive.google.com/uc?id='+file_id                                # Укажем директорию для скачивания: ссылка на гугл-диск + ID файла\n",
        "gdown.download(path, file_name, quiet=False)                                    # Скачивание файла"
      ],
      "execution_count": null,
      "outputs": [
        {
          "output_type": "stream",
          "name": "stderr",
          "text": [
            "Downloading...\n",
            "From: https://drive.google.com/uc?id=1TeJxgfr2ZEY5Elil7XgM8WW7njI9Toqj\n",
            "To: /content/writers.zip\n",
            "100%|██████████| 28.5M/28.5M [00:00<00:00, 57.3MB/s]\n"
          ]
        },
        {
          "output_type": "execute_result",
          "data": {
            "application/vnd.google.colaboratory.intrinsic+json": {
              "type": "string"
            },
            "text/plain": [
              "'writers.zip'"
            ]
          },
          "metadata": {},
          "execution_count": 2
        }
      ]
    },
    {
      "cell_type": "code",
      "source": [
        "# Распакуем архив.\n",
        "!unzip -q writers.zip"
      ],
      "metadata": {
        "id": "QVwCmN4zkDRV",
        "colab": {
          "base_uri": "https://localhost:8080/"
        },
        "outputId": "6475521a-4c0d-4589-97d3-7f5de8bef2fc"
      },
      "execution_count": null,
      "outputs": [
        {
          "output_type": "stream",
          "name": "stdout",
          "text": [
            "writers/Русские писатели/:  mismatching \"local\" filename (writers/╨а╤Г╤Б╤Б╨║╨╕╨╡ ╨┐╨╕╤Б╨░╤В╨╡╨╗╨╕/),\n",
            "         continuing with \"central\" filename version\n",
            "writers/Русские писатели/Беляев.txt:  mismatching \"local\" filename (writers/╨а╤Г╤Б╤Б╨║╨╕╨╡ ╨┐╨╕╤Б╨░╤В╨╡╨╗╨╕/╨С╨╡╨╗╤П╨╡╨▓.txt),\n",
            "         continuing with \"central\" filename version\n",
            "writers/Русские писатели/Булгаков.txt:  mismatching \"local\" filename (writers/╨а╤Г╤Б╤Б╨║╨╕╨╡ ╨┐╨╕╤Б╨░╤В╨╡╨╗╨╕/╨С╤Г╨╗╨│╨░╨║╨╛╨▓.txt),\n",
            "         continuing with \"central\" filename version\n",
            "writers/Русские писатели/Васильев.txt:  mismatching \"local\" filename (writers/╨а╤Г╤Б╤Б╨║╨╕╨╡ ╨┐╨╕╤Б╨░╤В╨╡╨╗╨╕/╨Т╨░╤Б╨╕╨╗╤М╨╡╨▓.txt),\n",
            "         continuing with \"central\" filename version\n",
            "writers/Русские писатели/Гоголь.txt:  mismatching \"local\" filename (writers/╨а╤Г╤Б╤Б╨║╨╕╨╡ ╨┐╨╕╤Б╨░╤В╨╡╨╗╨╕/╨У╨╛╨│╨╛╨╗╤М.txt),\n",
            "         continuing with \"central\" filename version\n",
            "writers/Русские писатели/Гончаров.txt:  mismatching \"local\" filename (writers/╨а╤Г╤Б╤Б╨║╨╕╨╡ ╨┐╨╕╤Б╨░╤В╨╡╨╗╨╕/╨У╨╛╨╜╤З╨░╤А╨╛╨▓.txt),\n",
            "         continuing with \"central\" filename version\n",
            "writers/Русские писатели/Горький.txt:  mismatching \"local\" filename (writers/╨а╤Г╤Б╤Б╨║╨╕╨╡ ╨┐╨╕╤Б╨░╤В╨╡╨╗╨╕/╨У╨╛╤А╤М╨║╨╕╨╣.txt),\n",
            "         continuing with \"central\" filename version\n",
            "writers/Русские писатели/Грибоедов.txt:  mismatching \"local\" filename (writers/╨а╤Г╤Б╤Б╨║╨╕╨╡ ╨┐╨╕╤Б╨░╤В╨╡╨╗╨╕/╨У╤А╨╕╨▒╨╛╨╡╨┤╨╛╨▓.txt),\n",
            "         continuing with \"central\" filename version\n",
            "writers/Русские писатели/Достоевский.txt:  mismatching \"local\" filename (writers/╨а╤Г╤Б╤Б╨║╨╕╨╡ ╨┐╨╕╤Б╨░╤В╨╡╨╗╨╕/╨Ф╨╛╤Б╤В╨╛╨╡╨▓╤Б╨║╨╕╨╣.txt),\n",
            "         continuing with \"central\" filename version\n",
            "writers/Русские писатели/Каверин.txt:  mismatching \"local\" filename (writers/╨а╤Г╤Б╤Б╨║╨╕╨╡ ╨┐╨╕╤Б╨░╤В╨╡╨╗╨╕/╨Ъ╨░╨▓╨╡╤А╨╕╨╜.txt),\n",
            "         continuing with \"central\" filename version\n",
            "writers/Русские писатели/Катаев.txt:  mismatching \"local\" filename (writers/╨а╤Г╤Б╤Б╨║╨╕╨╡ ╨┐╨╕╤Б╨░╤В╨╡╨╗╨╕/╨Ъ╨░╤В╨░╨╡╨▓.txt),\n",
            "         continuing with \"central\" filename version\n",
            "writers/Русские писатели/Куприн.txt:  mismatching \"local\" filename (writers/╨а╤Г╤Б╤Б╨║╨╕╨╡ ╨┐╨╕╤Б╨░╤В╨╡╨╗╨╕/╨Ъ╤Г╨┐╤А╨╕╨╜.txt),\n",
            "         continuing with \"central\" filename version\n",
            "writers/Русские писатели/Лермонтов.txt:  mismatching \"local\" filename (writers/╨а╤Г╤Б╤Б╨║╨╕╨╡ ╨┐╨╕╤Б╨░╤В╨╡╨╗╨╕/╨Ы╨╡╤А╨╝╨╛╨╜╤В╨╛╨▓.txt),\n",
            "         continuing with \"central\" filename version\n",
            "writers/Русские писатели/Лесков.txt:  mismatching \"local\" filename (writers/╨а╤Г╤Б╤Б╨║╨╕╨╡ ╨┐╨╕╤Б╨░╤В╨╡╨╗╨╕/╨Ы╨╡╤Б╨║╨╛╨▓.txt),\n",
            "         continuing with \"central\" filename version\n",
            "writers/Русские писатели/Носов.txt:  mismatching \"local\" filename (writers/╨а╤Г╤Б╤Б╨║╨╕╨╡ ╨┐╨╕╤Б╨░╤В╨╡╨╗╨╕/╨Э╨╛╤Б╨╛╨▓.txt),\n",
            "         continuing with \"central\" filename version\n",
            "writers/Русские писатели/Пастернак.txt:  mismatching \"local\" filename (writers/╨а╤Г╤Б╤Б╨║╨╕╨╡ ╨┐╨╕╤Б╨░╤В╨╡╨╗╨╕/╨Я╨░╤Б╤В╨╡╤А╨╜╨░╨║.txt),\n",
            "         continuing with \"central\" filename version\n",
            "writers/Русские писатели/Пушкин.txt:  mismatching \"local\" filename (writers/╨а╤Г╤Б╤Б╨║╨╕╨╡ ╨┐╨╕╤Б╨░╤В╨╡╨╗╨╕/╨Я╤Г╤И╨║╨╕╨╜.txt),\n",
            "         continuing with \"central\" filename version\n",
            "writers/Русские писатели/Толстой.txt:  mismatching \"local\" filename (writers/╨а╤Г╤Б╤Б╨║╨╕╨╡ ╨┐╨╕╤Б╨░╤В╨╡╨╗╨╕/╨в╨╛╨╗╤Б╤В╨╛╨╣.txt),\n",
            "         continuing with \"central\" filename version\n",
            "writers/Русские писатели/Тургенев.txt:  mismatching \"local\" filename (writers/╨а╤Г╤Б╤Б╨║╨╕╨╡ ╨┐╨╕╤Б╨░╤В╨╡╨╗╨╕/╨в╤Г╤А╨│╨╡╨╜╨╡╨▓.txt),\n",
            "         continuing with \"central\" filename version\n",
            "writers/Русские писатели/Чехов.txt:  mismatching \"local\" filename (writers/╨а╤Г╤Б╤Б╨║╨╕╨╡ ╨┐╨╕╤Б╨░╤В╨╡╨╗╨╕/╨з╨╡╤Е╨╛╨▓.txt),\n",
            "         continuing with \"central\" filename version\n",
            "writers/Русские писатели/Шолохов.txt:  mismatching \"local\" filename (writers/╨а╤Г╤Б╤Б╨║╨╕╨╡ ╨┐╨╕╤Б╨░╤В╨╡╨╗╨╕/╨и╨╛╨╗╨╛╤Е╨╛╨▓.txt),\n",
            "         continuing with \"central\" filename version\n"
          ]
        }
      ]
    },
    {
      "cell_type": "code",
      "source": [
        "!ls writers/Русские\\ писатели                                                   # Посмотрим на содержимое папки.                                                       # Посмотрим на содержимое папки."
      ],
      "metadata": {
        "colab": {
          "base_uri": "https://localhost:8080/"
        },
        "id": "QUpTdTOdhqEf",
        "outputId": "29790c4c-3517-419b-970a-6c4076e23382"
      },
      "execution_count": null,
      "outputs": [
        {
          "output_type": "stream",
          "name": "stdout",
          "text": [
            "Беляев.txt    Гончаров.txt     Каверин.txt    Лесков.txt     Толстой.txt\n",
            "Булгаков.txt  Горький.txt      Катаев.txt     Носов.txt      Тургенев.txt\n",
            "Васильев.txt  Грибоедов.txt    Куприн.txt     Пастернак.txt  Чехов.txt\n",
            "Гоголь.txt    Достоевский.txt  Лермонтов.txt  Пушкин.txt     Шолохов.txt\n"
          ]
        }
      ]
    },
    {
      "cell_type": "code",
      "source": [
        "texts_path = f'writers/Русские писатели/'                                       # Путь к файлам."
      ],
      "metadata": {
        "id": "aglZabMTyz5T"
      },
      "execution_count": null,
      "outputs": []
    },
    {
      "cell_type": "code",
      "source": [
        "files_list = sorted(os.listdir(texts_path))                                     # Получаем список файлов.\n",
        "print('Список файлов:')\n",
        "files_list"
      ],
      "metadata": {
        "colab": {
          "base_uri": "https://localhost:8080/"
        },
        "id": "_8YN355V0rFl",
        "outputId": "a6f6dc7f-39a4-4f2c-eceb-70d9003ce10d"
      },
      "execution_count": null,
      "outputs": [
        {
          "output_type": "stream",
          "name": "stdout",
          "text": [
            "Список файлов:\n"
          ]
        },
        {
          "output_type": "execute_result",
          "data": {
            "text/plain": [
              "['Беляев.txt',\n",
              " 'Булгаков.txt',\n",
              " 'Васильев.txt',\n",
              " 'Гоголь.txt',\n",
              " 'Гончаров.txt',\n",
              " 'Горький.txt',\n",
              " 'Грибоедов.txt',\n",
              " 'Достоевский.txt',\n",
              " 'Каверин.txt',\n",
              " 'Катаев.txt',\n",
              " 'Куприн.txt',\n",
              " 'Лермонтов.txt',\n",
              " 'Лесков.txt',\n",
              " 'Носов.txt',\n",
              " 'Пастернак.txt',\n",
              " 'Пушкин.txt',\n",
              " 'Толстой.txt',\n",
              " 'Тургенев.txt',\n",
              " 'Чехов.txt',\n",
              " 'Шолохов.txt']"
            ]
          },
          "metadata": {},
          "execution_count": 4
        }
      ]
    },
    {
      "cell_type": "code",
      "source": [
        "# Подготовим пустые списки.\n",
        "class_list = []                                                                 # Список классов.\n",
        "text_train = []                                                                 # Для обучающей выборки.\n",
        "text_test = []                                                                  # Для проверочной выборки."
      ],
      "metadata": {
        "id": "2OMXRLn47K_S"
      },
      "execution_count": null,
      "outputs": []
    },
    {
      "cell_type": "code",
      "source": [
        "coef_split = 0.8                                                                # Коэффициент для отделения обучающей выборки."
      ],
      "metadata": {
        "id": "OM0s51ro7O8c"
      },
      "execution_count": null,
      "outputs": []
    },
    {
      "cell_type": "code",
      "source": [
        " # В цикле сформируем обучающую и проверочную выборки.\n",
        "\n",
        "for file in files_list:\n",
        "  m = file.split('.')                                                           # Разделяем по символу \".\" чтобы получить имя класса.\n",
        "  class_name = m[0]                                                             # Имя класса.\n",
        "\n",
        "  if file:\n",
        "    if class_name not in class_list:                                            # Если имени класса еще нет в списке, добавляем его в список.\n",
        "      print(f'Добавление класса \"{class_name}\"')\n",
        "      class_list.append(class_name)\n",
        "\n",
        "      cls = class_list.index(class_name)\n",
        "      print(f'Добавление файла \"{file}\" в класс \"{class_list[cls]}\"')\n",
        "\n",
        "      with open(f'writers/Русские писатели/{file}', 'r') as f:                    # Открываем файл для чтения.\n",
        "        text = f.read()\n",
        "        text = text.replace('\\n', ' ').split(' ')                                 # Все символы веревода строк заменяем на пробелы.\n",
        "        text_len = len(text)                                                      # Находим количество слов.\n",
        "        text_train.append(' '.join(text[:int(text_len * coef_split)]))            # Отделяем обучающую выборку.\n",
        "        text_test.append(' '.join(text[int(text_len * coef_split):]))             # Отделяем проверочную выборку."
      ],
      "metadata": {
        "id": "VLLCZrKGyXMU",
        "colab": {
          "base_uri": "https://localhost:8080/"
        },
        "outputId": "82b85aab-b293-4529-f13a-87587babcae9"
      },
      "execution_count": null,
      "outputs": [
        {
          "output_type": "stream",
          "name": "stdout",
          "text": [
            "Добавление класса \"Беляев\"\n",
            "Добавление файла \"Беляев.txt\" в класс \"Беляев\"\n",
            "Добавление класса \"Булгаков\"\n",
            "Добавление файла \"Булгаков.txt\" в класс \"Булгаков\"\n",
            "Добавление класса \"Васильев\"\n",
            "Добавление файла \"Васильев.txt\" в класс \"Васильев\"\n",
            "Добавление класса \"Гоголь\"\n",
            "Добавление файла \"Гоголь.txt\" в класс \"Гоголь\"\n",
            "Добавление класса \"Гончаров\"\n",
            "Добавление файла \"Гончаров.txt\" в класс \"Гончаров\"\n",
            "Добавление класса \"Горький\"\n",
            "Добавление файла \"Горький.txt\" в класс \"Горький\"\n",
            "Добавление класса \"Грибоедов\"\n",
            "Добавление файла \"Грибоедов.txt\" в класс \"Грибоедов\"\n",
            "Добавление класса \"Достоевский\"\n",
            "Добавление файла \"Достоевский.txt\" в класс \"Достоевский\"\n",
            "Добавление класса \"Каверин\"\n",
            "Добавление файла \"Каверин.txt\" в класс \"Каверин\"\n",
            "Добавление класса \"Катаев\"\n",
            "Добавление файла \"Катаев.txt\" в класс \"Катаев\"\n",
            "Добавление класса \"Куприн\"\n",
            "Добавление файла \"Куприн.txt\" в класс \"Куприн\"\n",
            "Добавление класса \"Лермонтов\"\n",
            "Добавление файла \"Лермонтов.txt\" в класс \"Лермонтов\"\n",
            "Добавление класса \"Лесков\"\n",
            "Добавление файла \"Лесков.txt\" в класс \"Лесков\"\n",
            "Добавление класса \"Носов\"\n",
            "Добавление файла \"Носов.txt\" в класс \"Носов\"\n",
            "Добавление класса \"Пастернак\"\n",
            "Добавление файла \"Пастернак.txt\" в класс \"Пастернак\"\n",
            "Добавление класса \"Пушкин\"\n",
            "Добавление файла \"Пушкин.txt\" в класс \"Пушкин\"\n",
            "Добавление класса \"Толстой\"\n",
            "Добавление файла \"Толстой.txt\" в класс \"Толстой\"\n",
            "Добавление класса \"Тургенев\"\n",
            "Добавление файла \"Тургенев.txt\" в класс \"Тургенев\"\n",
            "Добавление класса \"Чехов\"\n",
            "Добавление файла \"Чехов.txt\" в класс \"Чехов\"\n",
            "Добавление класса \"Шолохов\"\n",
            "Добавление файла \"Шолохов.txt\" в класс \"Шолохов\"\n"
          ]
        }
      ]
    },
    {
      "cell_type": "code",
      "source": [
        "class_count = len(class_list)\n",
        "print(f'Количество классов: {class_count}')"
      ],
      "metadata": {
        "id": "cK8KoZivABe3",
        "colab": {
          "base_uri": "https://localhost:8080/"
        },
        "outputId": "dd7537f2-b8ca-4ac5-a215-b06b20115fd7"
      },
      "execution_count": null,
      "outputs": [
        {
          "output_type": "stream",
          "name": "stdout",
          "text": [
            "Количество классов: 20\n"
          ]
        }
      ]
    },
    {
      "cell_type": "code",
      "source": [
        "# Оценим обучающую и тестовую выборки.\n",
        "for cls in range(class_count):\n",
        "  print(f'Писатель: {class_list[cls]}')\n",
        "  print(f'~~ обучающий текст  : {text_train[cls][:100]}')\n",
        "  print(f'~~ проверочный текст: {text_test[cls][:100]}')\n",
        "  print()"
      ],
      "metadata": {
        "id": "CYn4PbrCWeHe",
        "colab": {
          "base_uri": "https://localhost:8080/"
        },
        "outputId": "b7adfc21-19d6-4784-c398-d5b4054dfe7f"
      },
      "execution_count": null,
      "outputs": [
        {
          "output_type": "stream",
          "name": "stdout",
          "text": [
            "Писатель: Беляев\n",
            "~~ обучающий текст  : Часть первая  I. На палубе   Большой трансатлантический пароход «Вениамин Франклин» стоял в генуэзск\n",
            "~~ проверочный текст:  Штирнер хмурился.  – И я подумала: как хорошо, что мы любим друг друга свободно и что мы счастливы!\n",
            "\n",
            "Писатель: Булгаков\n",
            "~~ обучающий текст  : Черновики романа. Тетрадь 1 1928 - 1929 гг. РАЗГОВОР ПО ДУШАМ - Значит, гражданин Поротый, две тысяч\n",
            "~~ проверочный текст: Ты помер, скажем, к примеру, какая разница. Какая разница, ответь мне, гражданин?   - Не обижайте!  \n",
            "\n",
            "Писатель: Васильев\n",
            "~~ обучающий текст  : А зори здесь тихие…1  В списках не значилсяЧасть первая1   На 171-м разъезде уцелело двенадцать двор\n",
            "~~ проверочный текст: ещё не настало.  — Передайте Чогдару, что Плоскиня и его брод-ники должны атаковать половцев только \n",
            "\n",
            "Писатель: Гоголь\n",
            "~~ обучающий текст  : Гоголь Николай Васильевич. Мертвые души. Поэма.  We may guess that it was a pretty apt expression, s\n",
            "~~ проверочный текст: глаза на какую-нибудь безделицу и рассматривает ее. Тогда он принадлежит к другому миру и ничего не \n",
            "\n",
            "Писатель: Гончаров\n",
            "~~ обучающий текст  : Обломов ЧАСТЬ ПЕРВАЯ I В Гороховой улице, в одном из больших домов, народонаселения которого стало б\n",
            "~~ проверочный текст: Католические миссионеры запрещают своим ученикам иметь книги, издаваемые протестантами, которые прив\n",
            "\n",
            "Писатель: Горький\n",
            "~~ обучающий текст  : МАКАР ЧУДРА* С моря дул влажный, холодный ветер, разнося по степи задумчивую мелодию плеска набегавш\n",
            "~~ проверочный текст: слова, он изливался густою струёй, и от каждого слова веяло местью. Уж я ему это выплачу… – жалобно \n",
            "\n",
            "Писатель: Грибоедов\n",
            "~~ обучающий текст  : ГОРЕ ОТ УМА* ДЕЙСТВУЮЩИЕ: 33 Павел Афанасьевич Фамусов, управляющий в казенном месте. София Павловна\n",
            "~~ проверочный текст: не может. Но тут легко можно было завлечься, чтобы себя, либо свое дело, либо другого выставить в лу\n",
            "\n",
            "Писатель: Достоевский\n",
            "~~ обучающий текст  : СКАЗАНИЕ ОТЦА НАШЕГО АГАПИЯ,  ЗАЧЕМ ОСТАВЛЯЮТ СВОИ СЕМЬИ, И ДОМА,  И ЖЕН, И ДЕТЕЙ И, ВЗЯВ КРЕСТ, СЛЕ\n",
            "~~ проверочный текст: никого перед судом не запутали, говорили ясно, точно, говорили, что прямо бежали из крепости, не зах\n",
            "\n",
            "Писатель: Каверин\n",
            "~~ обучающий текст  : Снегурочка и космополитизм Рассказ  Задумывались ли вы когда-нибудь о том, какой сложный путь проход\n",
            "~~ проверочный текст: государственные люди. А государственных людей у нас и много, и мало. Но, во всяком случае, я надеюсь\n",
            "\n",
            "Писатель: Катаев\n",
            "~~ обучающий текст  : Критико-биографический очерк   РАССКАЗЫ     ВЕСЕННИЙ ЗВОН    I   - Господи, как он вырос, совсем мол\n",
            "~~ проверочный текст: галстук рисунка «павлиний глаз» и, наконец, надел такой же просторный и свежий, как и панталоны, пид\n",
            "\n",
            "Писатель: Куприн\n",
            "~~ обучающий текст  : Яма  Знаю, что многие найдут эту повесть безнравственной и неприличной, тем не менее от всего сердца\n",
            "~~ проверочный текст: всякая шкода, всякая швара — все через них робится. Как в святых книгах сказано? Через кого господь \n",
            "\n",
            "Писатель: Лермонтов\n",
            "~~ обучающий текст  : Герой нашего времени   Во всякой книге предисловие есть первая и вместе с тем последняя вещь; оно ил\n",
            "~~ проверочный текст: было больно дышать; кровь поминутно приливала в голову, но со всем тем какое-то отрадное чувство рас\n",
            "\n",
            "Писатель: Лесков\n",
            "~~ обучающий текст  : РАЗБОЙНИК Ехали мы к Макарью на ярмарку*. Тарантас был огромный, тамбовский. Сидело нас пятеро: я, к\n",
            "~~ проверочный текст: четвертую ночь домой не явился, даже не явился он и еще двое суток, и уж о месте пребывания его в те\n",
            "\n",
            "Писатель: Носов\n",
            "~~ обучающий текст  : КАК ВИНТИК И ШПУНТИК СДЕЛАЛИ ПЫЛЕСОС   Кто читал книгу «Приключение Незнайки», тот знает, что у Незн\n",
            "~~ проверочный текст:  — Нет, что ты! Просто интересно почитать про это. Оказывается, можно устроить такую машину — инкуба\n",
            "\n",
            "Писатель: Пастернак\n",
            "~~ обучающий текст  :  Доктор Живаго    И ДЫШАТ ПОЧВА И СУДЬБА            Спустя два года после завершения романа \"Доктор \n",
            "~~ проверочный текст: внутреннем дворе, приказал обставить всем необходимым и даже допустил излишество в виде ковров и ста\n",
            "\n",
            "Писатель: Пушкин\n",
            "~~ обучающий текст  :  В одной из отдаленных наших губерний находилось имение Ивана Петровича Берестова. В молодости своей\n",
            "~~ проверочный текст: и выказать вполне ту оригинальность, которая была принадлежностью, свойством его личности и, следова\n",
            "\n",
            "Писатель: Толстой\n",
            "~~ обучающий текст  :  ГЛАВА I. ПОЕЗДКА НА ДОЛГИХ.  Снова поданы два экипажа к крыльцу Петровского дома; один – карета, в \n",
            "~~ проверочный текст:  – А о чем ты думала?  – Я? Я думала… Нет, нет, иди пиши, не развлекайся, – сказала она, морща губы,\n",
            "\n",
            "Писатель: Тургенев\n",
            "~~ обучающий текст  : Дворянское гнездо Весенний, светлый день клонился к вечеру; небольшие розовые тучки стояли высоко в \n",
            "~~ проверочный текст: а вы мне пришлите липового чаю. Простудился, должно быть.  — То-то я слышала, ты сегодня ночью кашля\n",
            "\n",
            "Писатель: Чехов\n",
            "~~ обучающий текст  :  Письмо к ученому соседу Дорогой Соседушка.  Максим… (забыл как по батюшке, извените великодушно!) И\n",
            "~~ проверочный текст: вас тут хорошо, — продолжал я, — тепло, мягко, уютно… И гусиные перья, — засмеялся я, поглядев на пи\n",
            "\n",
            "Писатель: Шолохов\n",
            "~~ обучающий текст  :   Собрание сочинений в восьми томах  Том 1. Рассказы   I  На столе гильзы патронные, пахнущие сгорев\n",
            "~~ проверочный текст: а у самого от ярости даже дух захватило. — Нет, тут другая музыка. Нынче приезжает к нам сам команду\n",
            "\n"
          ]
        }
      ]
    },
    {
      "cell_type": "code",
      "source": [
        "# Используем Tokenizer для преобразования текстовых данных.\n",
        "\n",
        "max_words_count1 = 10000                                                        # Максимальное количество слов используемое нейросетью для обучения.\n",
        "\n",
        "filters = '!\"#$%&()*+,-–—./…:;<=>?@[\\\\]^_`{|}~«»\\t\\n\\xa0\\ufeff'                 # Исключаемые символы.\n",
        "oov_token = 'неведомое слово'\n",
        "\n",
        "tokenizer = Tokenizer(num_words=max_words_count1, filters=filters,\n",
        "                      lower=True, split=' ',\n",
        "                      char_level=False, oov_token=oov_token)\n",
        "\n",
        "tokenizer.fit_on_texts(text_train)                                              # Создаем словарь частотности.\n",
        "\n",
        "# Преобразуем тексты в последовательности индексов.\n",
        "\n",
        "train_seq = tokenizer.texts_to_sequences(text_train)\n",
        "test_seq = tokenizer.texts_to_sequences(text_test)\n",
        "\n",
        "# Создание словаря.\n",
        "items = list(tokenizer.word_index.items())\n",
        "print(f'Размер словаря: {len(items)}')\n"
      ],
      "metadata": {
        "id": "Xuda_vrSa5Gs",
        "colab": {
          "base_uri": "https://localhost:8080/"
        },
        "outputId": "e8c5f0e0-c2d1-4866-d1b5-78cf59e4595d"
      },
      "execution_count": null,
      "outputs": [
        {
          "output_type": "stream",
          "name": "stdout",
          "text": [
            "Размер словаря: 318103\n"
          ]
        }
      ]
    },
    {
      "cell_type": "code",
      "source": [
        "print('Статистика собранных слов:')\n",
        "for cls in range(len(class_list)):\n",
        "  print(f'{class_list[cls]}: {len(train_seq[cls])} слов.')"
      ],
      "metadata": {
        "id": "0sRn2zTnx7wd",
        "colab": {
          "base_uri": "https://localhost:8080/"
        },
        "outputId": "5a9a82a9-3aba-495c-dd19-18a8582f2eb9"
      },
      "execution_count": null,
      "outputs": [
        {
          "output_type": "stream",
          "name": "stdout",
          "text": [
            "Статистика собранных слов:\n",
            "Беляев: 269640 слов.\n",
            "Булгаков: 240825 слов.\n",
            "Васильев: 355641 слов.\n",
            "Гоголь: 243378 слов.\n",
            "Гончаров: 390198 слов.\n",
            "Горький: 326594 слов.\n",
            "Грибоедов: 122170 слов.\n",
            "Достоевский: 652425 слов.\n",
            "Каверин: 245670 слов.\n",
            "Катаев: 301965 слов.\n",
            "Куприн: 283002 слов.\n",
            "Лермонтов: 248390 слов.\n",
            "Лесков: 269870 слов.\n",
            "Носов: 300382 слов.\n",
            "Пастернак: 360889 слов.\n",
            "Пушкин: 413961 слов.\n",
            "Толстой: 415441 слов.\n",
            "Тургенев: 245657 слов.\n",
            "Чехов: 834003 слов.\n",
            "Шолохов: 402138 слов.\n"
          ]
        }
      ]
    },
    {
      "cell_type": "code",
      "source": [
        "#Формирование обучающей и тестовой выборок.\n",
        "win_size = 1000\n",
        "step = 100"
      ],
      "metadata": {
        "id": "xxektk7reimt"
      },
      "execution_count": null,
      "outputs": []
    },
    {
      "cell_type": "code",
      "source": [
        "# Функция разбиения последовательности на отрезки скользящим окном.\n",
        "def split_sequence(sequence, win_size, step):\n",
        "  return [sequence[i:i + win_size] for i in range(0, len(sequence) - win_size + 1, step)]"
      ],
      "metadata": {
        "id": "Cc-UoEmpexqs"
      },
      "execution_count": null,
      "outputs": []
    },
    {
      "cell_type": "code",
      "source": [
        "# Функция формирования выборок из последовательностей индексов.\n",
        "def vectorize_sequence(seq_list, win_size, step):\n",
        "\n",
        "  cls_count = len(seq_list)\n",
        "\n",
        "  x, y = [], []\n",
        "\n",
        "  for cls in range(cls_count):\n",
        "    vectors = split_sequence(seq_list[cls], win_size, step)\n",
        "\n",
        "    x += vectors\n",
        "    y += [utils.to_categorical(cls, cls_count)] * len(vectors)\n",
        "\n",
        "  return np.array(x), np.array(y)\n"
      ],
      "metadata": {
        "id": "_sN1pVZ_smKT"
      },
      "execution_count": null,
      "outputs": []
    },
    {
      "cell_type": "code",
      "source": [
        "# Создаем обучающую выборку.\n",
        "x_train, y_train = vectorize_sequence(train_seq, win_size, step)\n",
        "print(f'Размерности обучающей выборки: {x_train.shape} и {y_train.shape}')"
      ],
      "metadata": {
        "id": "91iPCOo4tnXy",
        "colab": {
          "base_uri": "https://localhost:8080/"
        },
        "outputId": "9aac99a2-de96-4881-a536-3e210013105f"
      },
      "execution_count": null,
      "outputs": [
        {
          "output_type": "stream",
          "name": "stdout",
          "text": [
            "Размерности обучающей выборки: (69031, 1000) и (69031, 20)\n"
          ]
        }
      ]
    },
    {
      "cell_type": "code",
      "source": [
        "# Создаем тестовую выборку.\n",
        "x_test, y_test = vectorize_sequence(test_seq, win_size, step)\n",
        "print(f'Размерности тестовой выборки: {x_test.shape} и {y_test.shape}')"
      ],
      "metadata": {
        "id": "ncr_1ilbuarA",
        "colab": {
          "base_uri": "https://localhost:8080/"
        },
        "outputId": "1caff82b-7a54-45f1-ac55-a2e96cf33d53"
      },
      "execution_count": null,
      "outputs": [
        {
          "output_type": "stream",
          "name": "stdout",
          "text": [
            "Размерности тестовой выборки: (17274, 1000) и (17274, 20)\n"
          ]
        }
      ]
    },
    {
      "cell_type": "code",
      "source": [
        "# Функция для компиляции модели и построения графиков.\n",
        "def compile_model(model, x_train, y_train, x_val, y_val, epochs, batch_size, title):\n",
        "\n",
        "  model.compile(loss='categorical_crossentropy', optimizer='adam', metrics=['accuracy'])\n",
        "\n",
        "  history = model.fit(x_train, y_train, epochs=epochs, batch_size=batch_size, validation_data=(x_val, y_val), verbose=1)\n",
        "\n",
        "  val_acc = round(history.history['val_accuracy'][-1], 3) * 100\n",
        "\n",
        "  print()\n",
        "  print(f'Точность на проверочной выборке на последней эпохе: {val_acc}%')\n",
        "\n",
        "  #Вывод графиков.\n",
        "  fig, (ax1, ax2) = plt.subplots(1, 2, figsize=(20, 5))\n",
        "  fig.suptitle('График обучения модели ' + title)\n",
        "\n",
        "  ax1.plot(history.history['accuracy'], label='Доля верных ответов на обучающей выборке')\n",
        "  ax1.plot(history.history['val_accuracy'], label='Доля верных ответов на проверочной выборке')\n",
        "  ax1.set_xlabel('Эпохи обучения')\n",
        "  ax1.set_ylabel('Доля верных ответов')\n",
        "  ax1.legend()\n",
        "\n",
        "  ax2.plot(history.history['loss'], label='Ошибка на обучающей выборке')\n",
        "  ax2.plot(history.history['val_loss'], label='Ошибка на проверочной выборке')\n",
        "  ax2.set_xlabel('Эпохи обучения')\n",
        "  ax2.set_ylabel('Доля ошибок')\n",
        "  ax2.legend()\n",
        "\n",
        "  plt.show()"
      ],
      "metadata": {
        "id": "Vkr_Weax0zQc"
      },
      "execution_count": null,
      "outputs": []
    },
    {
      "cell_type": "code",
      "source": [
        "# Функция для вывода результатов работы модели.\n",
        "def eval_model(model, x, y, cls_names=[]):                         \n",
        "\n",
        "  y_pred = model.predict(x)                                                     # Распознавание.\n",
        "\n",
        "  conf_matrix = confusion_matrix(np.argmax(y, axis=1), np.argmax(y_pred, axis=1), normalize='true') # Построение матрицы ошибок.\n",
        "  conf_matrix = np.around(conf_matrix, 3)                                       # Округление значений матрицы ошибок.\n",
        "\n",
        "  for cls in range(len(cls_names)):                                             # Для каждого класса\n",
        "    cls_pred = np.argmax(conf_matrix[cls])                                      # находим максимум\n",
        "    msg = 'ВЕРНО' if cls_pred == cls else 'ОШИБКА'                              # и определяем верно ли предскажание нейросети.\n",
        "\n",
        "    print(f'Писатель \"{cls_names[cls]}\" определен как \"{cls_names[cls_pred]}\" c вероятностью {round(conf_matrix[cls, cls_pred] * 100)}% - {msg}')\n",
        "    print()\n",
        "  print(f'Средняя точность распознавания: {round(conf_matrix.diagonal().mean() * 100, 1)}%')\n",
        "\n"
      ],
      "metadata": {
        "id": "iYA0q0A6ceDo"
      },
      "execution_count": null,
      "outputs": []
    },
    {
      "cell_type": "markdown",
      "source": [
        "##Модель №1. Bag of words"
      ],
      "metadata": {
        "id": "9dmB3984gCnJ"
      }
    },
    {
      "cell_type": "code",
      "source": [
        "# Создаем обучающую и тестовую выборки в виде матриц Bag of words.\n",
        "x_train0 = tokenizer.sequences_to_matrix(x_train.tolist())\n",
        "x_test0 = tokenizer.sequences_to_matrix(x_test.tolist())"
      ],
      "metadata": {
        "id": "Xopi8UVev1C0"
      },
      "execution_count": null,
      "outputs": []
    },
    {
      "cell_type": "code",
      "source": [
        "title1 = 'Bag of words.'\n",
        "epochs1 = 4\n",
        "batch_size1 = 128"
      ],
      "metadata": {
        "id": "IiL23wQMgByY"
      },
      "execution_count": null,
      "outputs": []
    },
    {
      "cell_type": "code",
      "source": [
        "model1 = Sequential()\n",
        "\n",
        "model1.add(Dense(96, input_dim=max_words_count1, activation='relu'))\n",
        "model1.add(Dropout(0.2))\n",
        "model1.add(BatchNormalization())\n",
        "\n",
        "model1.add(Dense(class_count, activation='softmax'))"
      ],
      "metadata": {
        "id": "_Uf2RrqSgJll"
      },
      "execution_count": null,
      "outputs": []
    },
    {
      "cell_type": "code",
      "source": [
        "model1.summary()                                                                 # Выводим структуру модели."
      ],
      "metadata": {
        "colab": {
          "base_uri": "https://localhost:8080/"
        },
        "id": "MPHna8IGqRcX",
        "outputId": "5556f80d-fad6-4661-a7da-54b58bec2850"
      },
      "execution_count": null,
      "outputs": [
        {
          "output_type": "stream",
          "name": "stdout",
          "text": [
            "Model: \"sequential\"\n",
            "_________________________________________________________________\n",
            " Layer (type)                Output Shape              Param #   \n",
            "=================================================================\n",
            " dense (Dense)               (None, 96)                960096    \n",
            "                                                                 \n",
            " dropout (Dropout)           (None, 96)                0         \n",
            "                                                                 \n",
            " batch_normalization (BatchN  (None, 96)               384       \n",
            " ormalization)                                                   \n",
            "                                                                 \n",
            " dense_1 (Dense)             (None, 20)                1940      \n",
            "                                                                 \n",
            "=================================================================\n",
            "Total params: 962,420\n",
            "Trainable params: 962,228\n",
            "Non-trainable params: 192\n",
            "_________________________________________________________________\n"
          ]
        }
      ]
    },
    {
      "cell_type": "code",
      "source": [
        "compile_model(model1, x_train0, y_train, x_test0, y_test, epochs1, batch_size1, title1)"
      ],
      "metadata": {
        "id": "_7yVyQgbqUIg",
        "colab": {
          "base_uri": "https://localhost:8080/",
          "height": 543
        },
        "outputId": "55b675c4-55c8-4529-a38b-3c32c5b51461"
      },
      "execution_count": null,
      "outputs": [
        {
          "output_type": "stream",
          "name": "stdout",
          "text": [
            "Epoch 1/4\n",
            "540/540 [==============================] - 5s 7ms/step - loss: 0.1297 - accuracy: 0.9701 - val_loss: 0.2198 - val_accuracy: 0.9486\n",
            "Epoch 2/4\n",
            "540/540 [==============================] - 3s 5ms/step - loss: 0.0122 - accuracy: 0.9936 - val_loss: 0.1980 - val_accuracy: 0.9526\n",
            "Epoch 3/4\n",
            "540/540 [==============================] - 3s 5ms/step - loss: 0.0104 - accuracy: 0.9939 - val_loss: 0.1921 - val_accuracy: 0.9536\n",
            "Epoch 4/4\n",
            "540/540 [==============================] - 3s 5ms/step - loss: 0.0096 - accuracy: 0.9943 - val_loss: 0.1887 - val_accuracy: 0.9544\n",
            "\n",
            "Точность на проверочной выборке на последней эпохе: 95.39999999999999%\n"
          ]
        },
        {
          "output_type": "display_data",
          "data": {
            "image/png": "[encoded data removed]",
            "text/plain": [
              "<Figure size 1440x360 with 2 Axes>"
            ]
          },
          "metadata": {
            "needs_background": "light"
          }
        }
      ]
    },
    {
      "cell_type": "code",
      "source": [
        "eval_model(model1, x_test0, y_test, cls_names=class_list)"
      ],
      "metadata": {
        "id": "QYsmL2DtqWLK",
        "colab": {
          "base_uri": "https://localhost:8080/"
        },
        "outputId": "3fc9b1ce-4ac5-4df1-98d5-5f3265dc5a15"
      },
      "execution_count": null,
      "outputs": [
        {
          "output_type": "stream",
          "name": "stdout",
          "text": [
            "Писатель \"Беляев\" определен как \"Беляев\" c вероятностью 96% - ВЕРНО\n",
            "\n",
            "Писатель \"Булгаков\" определен как \"Булгаков\" c вероятностью 98% - ВЕРНО\n",
            "\n",
            "Писатель \"Васильев\" определен как \"Васильев\" c вероятностью 100% - ВЕРНО\n",
            "\n",
            "Писатель \"Гоголь\" определен как \"Гоголь\" c вероятностью 87% - ВЕРНО\n",
            "\n",
            "Писатель \"Гончаров\" определен как \"Гончаров\" c вероятностью 100% - ВЕРНО\n",
            "\n",
            "Писатель \"Горький\" определен как \"Горький\" c вероятностью 99% - ВЕРНО\n",
            "\n",
            "Писатель \"Грибоедов\" определен как \"Грибоедов\" c вероятностью 91% - ВЕРНО\n",
            "\n",
            "Писатель \"Достоевский\" определен как \"Достоевский\" c вероятностью 99% - ВЕРНО\n",
            "\n",
            "Писатель \"Каверин\" определен как \"Каверин\" c вероятностью 99% - ВЕРНО\n",
            "\n",
            "Писатель \"Катаев\" определен как \"Катаев\" c вероятностью 98% - ВЕРНО\n",
            "\n",
            "Писатель \"Куприн\" определен как \"Куприн\" c вероятностью 95% - ВЕРНО\n",
            "\n",
            "Писатель \"Лермонтов\" определен как \"Лермонтов\" c вероятностью 76% - ВЕРНО\n",
            "\n",
            "Писатель \"Лесков\" определен как \"Лесков\" c вероятностью 89% - ВЕРНО\n",
            "\n",
            "Писатель \"Носов\" определен как \"Носов\" c вероятностью 100% - ВЕРНО\n",
            "\n",
            "Писатель \"Пастернак\" определен как \"Пастернак\" c вероятностью 96% - ВЕРНО\n",
            "\n",
            "Писатель \"Пушкин\" определен как \"Пушкин\" c вероятностью 86% - ВЕРНО\n",
            "\n",
            "Писатель \"Толстой\" определен как \"Толстой\" c вероятностью 100% - ВЕРНО\n",
            "\n",
            "Писатель \"Тургенев\" определен как \"Тургенев\" c вероятностью 82% - ВЕРНО\n",
            "\n",
            "Писатель \"Чехов\" определен как \"Чехов\" c вероятностью 98% - ВЕРНО\n",
            "\n",
            "Писатель \"Шолохов\" определен как \"Шолохов\" c вероятностью 100% - ВЕРНО\n",
            "\n",
            "Средняя точность распознавания: 94.4%\n"
          ]
        }
      ]
    },
    {
      "cell_type": "markdown",
      "source": [
        " Модель Bag of words достигла 95,4% точности на проверочной выборке и средняя точность распознавания составила 94,4%."
      ],
      "metadata": {
        "id": "5JBuBg7k0Ncj"
      }
    },
    {
      "cell_type": "markdown",
      "source": [
        "##Модель №2. Embedding"
      ],
      "metadata": {
        "id": "AiunfHtCgKOn"
      }
    },
    {
      "cell_type": "code",
      "source": [
        "# Используем Tokenizer для преобразования текстовых данных.\n",
        "\n",
        "max_words_count = 20000                                                         # Максимальное количество слов используемое нейросетью для обучения.\n",
        "\n",
        "filters = '!\"#$%&()*+,-–—./…:;<=>?@[\\\\]^_`{|}~«»\\t\\n\\xa0\\ufeff'                 # Исключаемые символы.\n",
        "oov_token = 'неведомое слово'\n",
        "\n",
        "tokenizer = Tokenizer(num_words=max_words_count, filters=filters,\n",
        "                      lower=True, split=' ',\n",
        "                      char_level=False, oov_token=oov_token)\n",
        "\n",
        "tokenizer.fit_on_texts(text_train)                                              # Создаем словарь частотности.\n",
        "\n",
        "# Преобразуем тексты в последовательности индексов.\n",
        "\n",
        "train_seq = tokenizer.texts_to_sequences(text_train)\n",
        "test_seq = tokenizer.texts_to_sequences(text_test)\n"
      ],
      "metadata": {
        "id": "vqUa9tO_vcys"
      },
      "execution_count": null,
      "outputs": []
    },
    {
      "cell_type": "code",
      "source": [
        "# Создаем обучающую выборку.\n",
        "x_train, y_train = vectorize_sequence(train_seq, win_size, step)\n",
        "print(f'Размерности обучающей выборки: {x_train.shape} и {y_train.shape}')"
      ],
      "metadata": {
        "id": "GKy5VioDveE6"
      },
      "execution_count": null,
      "outputs": []
    },
    {
      "cell_type": "code",
      "source": [
        "# Создаем тестовую выборку.\n",
        "x_test, y_test = vectorize_sequence(test_seq, win_size, step)\n",
        "print(f'Размерности тестовой выборки: {x_test.shape} и {y_test.shape}')"
      ],
      "metadata": {
        "id": "X56_VPb5vo28"
      },
      "execution_count": null,
      "outputs": []
    },
    {
      "cell_type": "code",
      "source": [
        "title2 = 'Embedding'\n",
        "epochs2 = 4\n",
        "batch_size2 = 128"
      ],
      "metadata": {
        "id": "MQ69hG5PgStO"
      },
      "execution_count": null,
      "outputs": []
    },
    {
      "cell_type": "code",
      "source": [
        "# Создаем модель со слоем Embedding.\n",
        "model2 = Sequential()\n",
        "\n",
        "model2.add(Embedding(max_words_count, 20, input_length=win_size))\n",
        "model2.add(SpatialDropout1D(0.1))\n",
        "model2.add(Flatten())\n",
        "model2.add(BatchNormalization())\n",
        "model2.add(Dense(200, activation='relu'))\n",
        "model2.add(Dropout(0.1))\n",
        "model2.add(BatchNormalization())\n",
        "\n",
        "model2.add(Dense(class_count, activation='softmax'))"
      ],
      "metadata": {
        "id": "Zwise7BEgWRL"
      },
      "execution_count": null,
      "outputs": []
    },
    {
      "cell_type": "code",
      "source": [
        "model2.summary()                                                                # Выводим структуру модели."
      ],
      "metadata": {
        "colab": {
          "base_uri": "https://localhost:8080/"
        },
        "id": "1VwBWYI6gYEd",
        "outputId": "4b4e3b9d-fca1-4373-ef4f-60417f59012c"
      },
      "execution_count": null,
      "outputs": [
        {
          "output_type": "stream",
          "name": "stdout",
          "text": [
            "Model: \"sequential_7\"\n",
            "_________________________________________________________________\n",
            " Layer (type)                Output Shape              Param #   \n",
            "=================================================================\n",
            " embedding_7 (Embedding)     (None, 1000, 20)          400000    \n",
            "                                                                 \n",
            " spatial_dropout1d_7 (Spatia  (None, 1000, 20)         0         \n",
            " lDropout1D)                                                     \n",
            "                                                                 \n",
            " flatten_7 (Flatten)         (None, 20000)             0         \n",
            "                                                                 \n",
            " batch_normalization_14 (Bat  (None, 20000)            80000     \n",
            " chNormalization)                                                \n",
            "                                                                 \n",
            " dense_14 (Dense)            (None, 200)               4000200   \n",
            "                                                                 \n",
            " dropout_7 (Dropout)         (None, 200)               0         \n",
            "                                                                 \n",
            " batch_normalization_15 (Bat  (None, 200)              800       \n",
            " chNormalization)                                                \n",
            "                                                                 \n",
            " dense_15 (Dense)            (None, 20)                4020      \n",
            "                                                                 \n",
            "=================================================================\n",
            "Total params: 4,485,020\n",
            "Trainable params: 4,444,620\n",
            "Non-trainable params: 40,400\n",
            "_________________________________________________________________\n"
          ]
        }
      ]
    },
    {
      "cell_type": "code",
      "source": [
        "compile_model(model2, x_train, y_train, x_test, y_test, epochs2, batch_size2, title2)"
      ],
      "metadata": {
        "colab": {
          "base_uri": "https://localhost:8080/",
          "height": 543
        },
        "id": "0LB5uIZTgbKR",
        "outputId": "1bcae897-f2a9-4d98-e69b-59992a1319fd"
      },
      "execution_count": null,
      "outputs": [
        {
          "output_type": "stream",
          "name": "stdout",
          "text": [
            "Epoch 1/4\n",
            "540/540 [==============================] - 38s 69ms/step - loss: 0.9192 - accuracy: 0.7556 - val_loss: 0.6906 - val_accuracy: 0.8279\n",
            "Epoch 2/4\n",
            "540/540 [==============================] - 37s 68ms/step - loss: 0.0092 - accuracy: 0.9996 - val_loss: 0.5190 - val_accuracy: 0.8532\n",
            "Epoch 3/4\n",
            "540/540 [==============================] - 37s 69ms/step - loss: 0.0043 - accuracy: 0.9997 - val_loss: 0.5365 - val_accuracy: 0.8493\n",
            "Epoch 4/4\n",
            "540/540 [==============================] - 38s 70ms/step - loss: 0.0025 - accuracy: 0.9999 - val_loss: 0.5263 - val_accuracy: 0.8532\n",
            "\n",
            "Точность на проверочной выборке на последней эпохе: 85.3%\n"
          ]
        },
        {
          "output_type": "display_data",
          "data": {
            "image/png": "[encoded data removed]",
            "text/plain": [
              "<Figure size 1440x360 with 2 Axes>"
            ]
          },
          "metadata": {
            "needs_background": "light"
          }
        }
      ]
    },
    {
      "cell_type": "code",
      "source": [
        "eval_model(model2, x_test, y_test, cls_names=class_list)"
      ],
      "metadata": {
        "colab": {
          "base_uri": "https://localhost:8080/"
        },
        "id": "EXZx8r3HgdDN",
        "outputId": "42a510a9-abce-4e6e-f404-ba7950fa7201"
      },
      "execution_count": null,
      "outputs": [
        {
          "output_type": "stream",
          "name": "stdout",
          "text": [
            "Писатель \"Беляев\" определен как \"Беляев\" c вероятностью 74% - ВЕРНО\n",
            "\n",
            "Писатель \"Булгаков\" определен как \"Булгаков\" c вероятностью 85% - ВЕРНО\n",
            "\n",
            "Писатель \"Васильев\" определен как \"Васильев\" c вероятностью 100% - ВЕРНО\n",
            "\n",
            "Писатель \"Гоголь\" определен как \"Гоголь\" c вероятностью 62% - ВЕРНО\n",
            "\n",
            "Писатель \"Гончаров\" определен как \"Гончаров\" c вероятностью 96% - ВЕРНО\n",
            "\n",
            "Писатель \"Горький\" определен как \"Горький\" c вероятностью 78% - ВЕРНО\n",
            "\n",
            "Писатель \"Грибоедов\" определен как \"Грибоедов\" c вероятностью 79% - ВЕРНО\n",
            "\n",
            "Писатель \"Достоевский\" определен как \"Достоевский\" c вероятностью 84% - ВЕРНО\n",
            "\n",
            "Писатель \"Каверин\" определен как \"Каверин\" c вероятностью 91% - ВЕРНО\n",
            "\n",
            "Писатель \"Катаев\" определен как \"Катаев\" c вероятностью 81% - ВЕРНО\n",
            "\n",
            "Писатель \"Куприн\" определен как \"Куприн\" c вероятностью 57% - ВЕРНО\n",
            "\n",
            "Писатель \"Лермонтов\" определен как \"Лермонтов\" c вероятностью 73% - ВЕРНО\n",
            "\n",
            "Писатель \"Лесков\" определен как \"Лесков\" c вероятностью 80% - ВЕРНО\n",
            "\n",
            "Писатель \"Носов\" определен как \"Носов\" c вероятностью 93% - ВЕРНО\n",
            "\n",
            "Писатель \"Пастернак\" определен как \"Пастернак\" c вероятностью 93% - ВЕРНО\n",
            "\n",
            "Писатель \"Пушкин\" определен как \"Пушкин\" c вероятностью 83% - ВЕРНО\n",
            "\n",
            "Писатель \"Толстой\" определен как \"Толстой\" c вероятностью 99% - ВЕРНО\n",
            "\n",
            "Писатель \"Тургенев\" определен как \"Тургенев\" c вероятностью 43% - ВЕРНО\n",
            "\n",
            "Писатель \"Чехов\" определен как \"Чехов\" c вероятностью 98% - ВЕРНО\n",
            "\n",
            "Писатель \"Шолохов\" определен как \"Шолохов\" c вероятностью 100% - ВЕРНО\n",
            "\n",
            "Средняя точность распознавания: 82.3%\n"
          ]
        }
      ]
    },
    {
      "cell_type": "markdown",
      "source": [
        "Модель Embedding - 85.3% точность на проверочной выборке и 82% средняя точность распознавания."
      ],
      "metadata": {
        "id": "0m7sxcSzrNdJ"
      }
    }
  ]
}